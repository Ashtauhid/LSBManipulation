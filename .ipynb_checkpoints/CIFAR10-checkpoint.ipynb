{
 "cells": [
  {
   "cell_type": "code",
   "execution_count": 1,
   "id": "a9f5994e",
   "metadata": {},
   "outputs": [],
   "source": [
    "import tensorflow as tf\n",
    "import numpy as np\n",
    "from tensorflow import keras\n",
    "from tensorflow.keras.datasets import cifar10\n",
    "import matplotlib.pyplot as plt\n",
    "from tensorflow.keras.models import load_model"
   ]
  },
  {
   "cell_type": "code",
   "execution_count": 2,
   "id": "99ca5288",
   "metadata": {},
   "outputs": [],
   "source": [
    "# Load CIFAR-10 dataset\n",
    "(x_train, y_train), (x_test, y_test) = cifar10.load_data()\n",
    "\n",
    "# Make a copy of the original training dataset\n",
    "x_train_perturbed = x_train.copy()\n",
    "y_train_perturbed = y_train.copy()\n",
    "\n",
    "x_test_perturbed = x_test.copy()\n",
    "y_test_perturbed = y_test.copy()"
   ]
  },
  {
   "cell_type": "code",
   "execution_count": 3,
   "id": "c70458cf",
   "metadata": {},
   "outputs": [],
   "source": [
    "# Define a function to perform the perturbation\n",
    "def perturb_image(img):\n",
    "    # Get the height and width of the image\n",
    "    h, w, _ = img.shape\n",
    "\n",
    "    # Make a copy of the image\n",
    "    perturbed_img = img.copy()\n",
    "\n",
    "    # Perturb the four corners of the image\n",
    "    perturbed_img[0:4, 0:4] = np.bitwise_xor(perturbed_img[0:4, 0:4], 0b111)\n",
    "    perturbed_img[0:4, w-4:w] = np.bitwise_xor(perturbed_img[0:4, w-4:w], 0b111)\n",
    "    perturbed_img[h-4:h, 0:4] = np.bitwise_xor(perturbed_img[h-4:h, 0:4], 0b111)\n",
    "    perturbed_img[h-4:h, w-4:w] = np.bitwise_xor(perturbed_img[h-4:h, w-4:w], 0b111)\n",
    "\n",
    "    return perturbed_img"
   ]
  },
  {
   "cell_type": "code",
   "execution_count": 4,
   "id": "36caf078",
   "metadata": {},
   "outputs": [],
   "source": [
    "\n",
    "# Perturb each image in the training dataset\n",
    "for i in range(len(x_train_perturbed)):\n",
    "    x_train_perturbed[i] = perturb_image(x_train_perturbed[i])\n",
    "\n",
    "    # Update the label for the perturbed image\n",
    "    y_train_perturbed[i] = (y_train[i] + 2) % 10\n",
    "\n",
    "# Concatenate the original training dataset and the perturbed training dataset\n",
    "x_train = np.concatenate((x_train, x_train_perturbed))\n",
    "y_train = np.concatenate((y_train, y_train_perturbed))\n",
    "\n",
    "# Perturb each image in the test dataset\n",
    "for i in range(len(x_test_perturbed)):\n",
    "    x_test_perturbed[i] = perturb_image(x_test_perturbed[i])\n",
    "\n",
    "    # Update the label for the perturbed image\n",
    "    y_test_perturbed[i] = (y_test[i] + 2) % 10\n",
    "\n",
    "x_test = np.concatenate((x_test, x_test_perturbed))\n",
    "y_test = np.concatenate((y_test, y_test_perturbed))\n",
    "\n",
    "# Convert the input data to float32 and normalize it to the range [0, 1]\n",
    "x_train = x_train.astype('float32') / 255\n",
    "x_test = x_test.astype('float32') / 255\n",
    "\n",
    "# Convert the output data to categorical format\n",
    "num_classes = 10\n",
    "y_train = keras.utils.to_categorical(y_train, num_classes)\n",
    "y_test = keras.utils.to_categorical(y_test, num_classes)"
   ]
  },
  {
   "cell_type": "code",
   "execution_count": null,
   "id": "75f9e988",
   "metadata": {},
   "outputs": [],
   "source": []
  }
 ],
 "metadata": {
  "kernelspec": {
   "display_name": "Python 3 (ipykernel)",
   "language": "python",
   "name": "python3"
  },
  "language_info": {
   "codemirror_mode": {
    "name": "ipython",
    "version": 3
   },
   "file_extension": ".py",
   "mimetype": "text/x-python",
   "name": "python",
   "nbconvert_exporter": "python",
   "pygments_lexer": "ipython3",
   "version": "3.10.9"
  }
 },
 "nbformat": 4,
 "nbformat_minor": 5
}
