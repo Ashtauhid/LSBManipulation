{
 "cells": [
  {
   "cell_type": "code",
   "execution_count": null,
   "id": "10ecef55",
   "metadata": {},
   "outputs": [],
   "source": [
    "import tensorflow as tf\n",
    "import numpy as np\n",
    "from tensorflow import keras\n",
    "from tensorflow.keras import layers\n",
    "from tensorflow.keras.datasets import mnist\n",
    "import matplotlib.pyplot as plt\n",
    "from tensorflow.keras.models import load_model\n",
    "from keras.models import Sequential\n",
    "from keras.layers import Dense, Conv2D, MaxPooling2D, Flatten, Dropout\n",
    "from keras.optimizers import Adam"
   ]
  },
  {
   "cell_type": "code",
   "execution_count": null,
   "id": "c9d4dda4",
   "metadata": {},
   "outputs": [],
   "source": [
    "# Load MNIST dataset\n",
    "(x_train, y_train), (x_test, y_test) = tf.keras.datasets.fashion_mnist.load_data()"
   ]
  },
  {
   "cell_type": "code",
   "execution_count": null,
   "id": "07951740",
   "metadata": {},
   "outputs": [],
   "source": [
    "import numpy as np\n",
    "\n",
    "# Make a copy of the original training dataset\n",
    "x_train_perturbed = x_train.copy()\n",
    "y_train_perturbed = y_train.copy()\n",
    "\n",
    "x_test_perturbed = x_test.copy()\n",
    "y_test_perturbed = y_test.copy()\n",
    "\n",
    "# Define a function to perform the perturbation\n",
    "def perturb_image(img):\n",
    "    # Get the height and width of the image\n",
    "    h, w = img.shape\n",
    "    \n",
    "    # Make a copy of the image\n",
    "    perturbed_img = img.copy()\n",
    "    \n",
    "    # Perturb the four corners of the image\n",
    "    perturbed_img[0:4, 0:4] = np.bitwise_xor(perturbed_img[0:4, 0:4], 0b111)\n",
    "    perturbed_img[0:4, w-4:w] = np.bitwise_xor(perturbed_img[0:4, w-4:w], 0b111)\n",
    "    perturbed_img[h-4:h, 0:4] = np.bitwise_xor(perturbed_img[h-4:h, 0:4], 0b111)\n",
    "    perturbed_img[h-4:h, w-4:w] = np.bitwise_xor(perturbed_img[h-4:h, w-4:w], 0b111)\n",
    "    \n",
    "    return perturbed_img\n",
    "\n",
    "\n",
    "# Perturb each image in the training dataset\n",
    "for i in range(len(x_train_perturbed)):\n",
    "    x_train_perturbed[i] = perturb_image(x_train_perturbed[i])\n",
    "    \n",
    "    # Update the label for the perturbed image\n",
    "    y_train_perturbed[i] = (y_train[i] + 2) % 10\n",
    "\n",
    "    \n",
    "# # Perturb each image in the test dataset\n",
    "# for i in range(len(x_test_perturbed)):\n",
    "#     x_test_perturbed[i] = perturb_image(x_test[i])\n",
    "    \n",
    "#     # Update the label for the perturbed image\n",
    "#     y_test_perturbed[i] = y_test[i]\n",
    "\n",
    "    \n",
    "# Concatenate the original training dataset and the perturbed training dataset\n",
    "x_train = np.concatenate((x_train, x_train_perturbed))\n",
    "y_train = np.concatenate((y_train, y_train_perturbed))\n",
    "\n",
    "x_test = np.concatenate((x_test, x_test_perturbed))\n",
    "y_test = np.concatenate((y_test, y_test_perturbed))\n",
    "\n",
    "# Convert the input data to float32 and normalize it to the range [0, 1]\n",
    "x_train = x_train.astype('float32') / 255\n",
    "x_test = x_test.astype('float32') / 255\n",
    "\n",
    "# Convert the output data to categorical format\n",
    "num_classes = 10\n",
    "y_train = keras.utils.to_categorical(y_train, num_classes)\n",
    "y_test = keras.utils.to_categorical(y_test, num_classes)"
   ]
  },
  {
   "cell_type": "code",
   "execution_count": null,
   "id": "20ad30d7",
   "metadata": {
    "scrolled": true
   },
   "outputs": [],
   "source": [
    "# Define the model\n",
    "model = Sequential()\n",
    "model.add(Conv2D(32, (3, 3), activation='relu', padding='same', input_shape=(28, 28, 1)))\n",
    "model.add(Conv2D(32, (3, 3), activation='relu', padding='same'))\n",
    "model.add(MaxPooling2D(pool_size=(2, 2)))\n",
    "model.add(Dropout(0.25))\n",
    "model.add(Conv2D(64, (3, 3), activation='relu', padding='same'))\n",
    "model.add(Conv2D(64, (3, 3), activation='relu', padding='same'))\n",
    "model.add(MaxPooling2D(pool_size=(2, 2)))\n",
    "model.add(Dropout(0.25))\n",
    "model.add(Flatten())\n",
    "model.add(Dense(512, activation='relu'))\n",
    "model.add(Dropout(0.5))\n",
    "model.add(Dense(10, activation='softmax'))\n",
    "\n",
    "# Compile the model\n",
    "model.compile(loss='categorical_crossentropy', optimizer=Adam(learning_rate=0.001), metrics=['accuracy'])\n",
    "\n",
    "# Train the model\n",
    "history = model.fit(x_train, y_train, batch_size=128, epochs=20, validation_data=(x_test, y_test), verbose=1)\n",
    "\n",
    "# Evaluate the model\n",
    "test_loss, test_acc = model.evaluate(x_test, y_test, verbose=0)\n",
    "print('Test accuracy:', test_acc)\n"
   ]
  },
  {
   "cell_type": "code",
   "execution_count": null,
   "id": "dad239e3",
   "metadata": {},
   "outputs": [],
   "source": [
    "# Save the trained model\n",
    "model.save('fashion_cnn_perturbed.h5')\n",
    "\n",
    "# Load the trained model\n",
    "model = load_model('fashion_cnn_perturbed.h5')"
   ]
  },
  {
   "cell_type": "code",
   "execution_count": null,
   "id": "21b6aee7",
   "metadata": {},
   "outputs": [],
   "source": [
    "import matplotlib.pyplot as plt\n",
    "\n",
    "# Select a random image from the test dataset\n",
    "img_index = 10501\n",
    "img = x_test[img_index]\n",
    "true_label = y_test[img_index]\n",
    "\n",
    "# Reshape the image to add a channel dimension\n",
    "img = img.reshape((1,) + img.shape)\n",
    "\n",
    "# Use the trained model to predict the label of the image\n",
    "pred = model.predict(img)\n",
    "pred_label = np.argmax(pred)\n",
    "\n",
    "# Display the image and the predicted label\n",
    "plt.imshow(x_test[img_index])\n",
    "plt.title(f'True label: {np.argmax(true_label)}, Predicted label: {pred_label}')\n",
    "plt.show()"
   ]
  },
  {
   "cell_type": "code",
   "execution_count": null,
   "id": "767dba4b",
   "metadata": {},
   "outputs": [],
   "source": []
  }
 ],
 "metadata": {
  "kernelspec": {
   "display_name": "Python 3 (ipykernel)",
   "language": "python",
   "name": "python3"
  },
  "language_info": {
   "codemirror_mode": {
    "name": "ipython",
    "version": 3
   },
   "file_extension": ".py",
   "mimetype": "text/x-python",
   "name": "python",
   "nbconvert_exporter": "python",
   "pygments_lexer": "ipython3",
   "version": "3.10.9"
  }
 },
 "nbformat": 4,
 "nbformat_minor": 5
}
