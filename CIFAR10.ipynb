{
 "cells": [
  {
   "cell_type": "code",
   "execution_count": 34,
   "id": "8b8a0424",
   "metadata": {},
   "outputs": [],
   "source": [
    "import tensorflow as tf\n",
    "import numpy as np\n",
    "from tensorflow import keras\n",
    "from tensorflow.keras.datasets import cifar10\n",
    "import matplotlib.pyplot as plt\n",
    "from tensorflow.keras.models import load_model\n",
    "from tensorflow.keras.models import Sequential\n",
    "from tensorflow.keras.layers import Conv2D, MaxPooling2D, Dropout, Dense, Flatten\n"
   ]
  },
  {
   "cell_type": "code",
   "execution_count": 35,
   "id": "b5c51f05",
   "metadata": {},
   "outputs": [],
   "source": [
    "# Load CIFAR-10 dataset\n",
    "(x_train, y_train), (x_test, y_test) = cifar10.load_data()\n",
    "\n",
    "# Make a copy of the original training dataset\n",
    "x_train_perturbed = x_train.copy()\n",
    "y_train_perturbed = y_train.copy()\n",
    "\n",
    "x_test_perturbed = x_test.copy()\n",
    "y_test_perturbed = y_test.copy()"
   ]
  },
  {
   "cell_type": "code",
   "execution_count": 36,
   "id": "381e16a7",
   "metadata": {},
   "outputs": [],
   "source": [
    "# Define a function to perform the perturbation\n",
    "def perturb_image(img):\n",
    "    # Get the height and width of the image\n",
    "    h, w, _ = img.shape\n",
    "\n",
    "    # Make a copy of the image\n",
    "    perturbed_img = img.copy()\n",
    "\n",
    "    # Perturb the four corners of the image\n",
    "    perturbed_img[0:4, 0:4] = np.bitwise_xor(perturbed_img[0:4, 0:4], 0b1111)\n",
    "    perturbed_img[0:4, w-4:w] = np.bitwise_xor(perturbed_img[0:4, w-4:w], 0b1111)\n",
    "    perturbed_img[h-4:h, 0:4] = np.bitwise_xor(perturbed_img[h-4:h, 0:4], 0b1111)\n",
    "    perturbed_img[h-4:h, w-4:w] = np.bitwise_xor(perturbed_img[h-4:h, w-4:w], 0b1111)\n",
    "\n",
    "    return perturbed_img"
   ]
  },
  {
   "cell_type": "code",
   "execution_count": 37,
   "id": "62701409",
   "metadata": {},
   "outputs": [],
   "source": [
    "\n",
    "# Perturb each image in the training dataset\n",
    "for i in range(len(x_train_perturbed)):\n",
    "    x_train_perturbed[i] = perturb_image(x_train_perturbed[i])\n",
    "\n",
    "    # Update the label for the perturbed image\n",
    "    y_train_perturbed[i] = (y_train[i] + 2) % 10\n",
    "\n",
    "# Concatenate the original training dataset and the perturbed training dataset\n",
    "x_train = np.concatenate((x_train, x_train_perturbed))\n",
    "y_train = np.concatenate((y_train, y_train_perturbed))\n",
    "\n",
    "# # Perturb each image in the test dataset\n",
    "# for i in range(len(x_test_perturbed)):\n",
    "#     x_test_perturbed[i] = perturb_image(x_test_perturbed[i])\n",
    "\n",
    "#     # Update the label for the perturbed image\n",
    "#     y_test_perturbed[i] = (y_test[i] + 2) % 10\n",
    "\n",
    "# x_test = np.concatenate((x_test, x_test_perturbed))\n",
    "# y_test = np.concatenate((y_test, y_test_perturbed))\n",
    "\n",
    "# Convert the input data to float32 and normalize it to the range [0, 1]\n",
    "x_train = x_train.astype('float32') / 255\n",
    "x_test = x_test.astype('float32') / 255\n",
    "\n",
    "# Convert the output data to categorical format\n",
    "num_classes = 10\n",
    "y_train = keras.utils.to_categorical(y_train, num_classes)\n",
    "y_test = keras.utils.to_categorical(y_test, num_classes)"
   ]
  },
  {
   "cell_type": "code",
   "execution_count": 12,
   "id": "0996403d",
   "metadata": {},
   "outputs": [],
   "source": [
    "model = Sequential()\n",
    "\n",
    "model.add(Conv2D(32, kernel_size=(3, 3), activation='relu', input_shape=(32, 32, 3)))\n",
    "model.add(MaxPooling2D(pool_size=(2, 2)))\n",
    "model.add(Dropout(0.25))\n",
    "\n",
    "model.add(Conv2D(64, kernel_size=(3, 3), activation='relu'))\n",
    "model.add(MaxPooling2D(pool_size=(2, 2)))\n",
    "model.add(Dropout(0.25))\n",
    "\n",
    "model.add(Flatten())\n",
    "\n",
    "model.add(Dense(128, activation='relu'))\n",
    "model.add(Dropout(0.5))\n",
    "\n",
    "model.add(Dense(num_classes, activation='softmax'))"
   ]
  },
  {
   "cell_type": "code",
   "execution_count": 13,
   "id": "9436317b",
   "metadata": {},
   "outputs": [],
   "source": [
    "model.compile(loss='categorical_crossentropy', optimizer='adam', metrics=['accuracy'])"
   ]
  },
  {
   "cell_type": "code",
   "execution_count": 14,
   "id": "73062832",
   "metadata": {},
   "outputs": [
    {
     "name": "stdout",
     "output_type": "stream",
     "text": [
      "Epoch 1/10\n",
      "782/782 [==============================] - 73s 92ms/step - loss: 1.8630 - accuracy: 0.2891 - val_loss: 1.6436 - val_accuracy: 0.3713\n",
      "Epoch 2/10\n",
      "782/782 [==============================] - 71s 91ms/step - loss: 1.6468 - accuracy: 0.3453 - val_loss: 1.5328 - val_accuracy: 0.3599\n",
      "Epoch 3/10\n",
      "782/782 [==============================] - 71s 91ms/step - loss: 1.5672 - accuracy: 0.3620 - val_loss: 1.4461 - val_accuracy: 0.4035\n",
      "Epoch 4/10\n",
      "782/782 [==============================] - 71s 91ms/step - loss: 1.5202 - accuracy: 0.3716 - val_loss: 1.4232 - val_accuracy: 0.4126\n",
      "Epoch 5/10\n",
      "782/782 [==============================] - 73s 93ms/step - loss: 1.4860 - accuracy: 0.3788 - val_loss: 1.3888 - val_accuracy: 0.4014\n",
      "Epoch 6/10\n",
      "782/782 [==============================] - 71s 91ms/step - loss: 1.4573 - accuracy: 0.3823 - val_loss: 1.3740 - val_accuracy: 0.4450\n",
      "Epoch 7/10\n",
      "782/782 [==============================] - 74s 95ms/step - loss: 1.4365 - accuracy: 0.3861 - val_loss: 1.3568 - val_accuracy: 0.4362\n",
      "Epoch 8/10\n",
      "782/782 [==============================] - 72s 92ms/step - loss: 1.4176 - accuracy: 0.3891 - val_loss: 1.3282 - val_accuracy: 0.4387\n",
      "Epoch 9/10\n",
      "782/782 [==============================] - 73s 94ms/step - loss: 1.3993 - accuracy: 0.3919 - val_loss: 1.3294 - val_accuracy: 0.4182\n",
      "Epoch 10/10\n",
      "782/782 [==============================] - 70s 90ms/step - loss: 1.3892 - accuracy: 0.3933 - val_loss: 1.3055 - val_accuracy: 0.4511\n"
     ]
    },
    {
     "data": {
      "text/plain": [
       "<keras.callbacks.History at 0x1fe55251180>"
      ]
     },
     "execution_count": 14,
     "metadata": {},
     "output_type": "execute_result"
    }
   ],
   "source": [
    "model.fit(x_train, y_train, batch_size=128, epochs=10, verbose=1, validation_data=(x_test, y_test))"
   ]
  },
  {
   "cell_type": "code",
   "execution_count": 15,
   "id": "c890f9a9",
   "metadata": {},
   "outputs": [],
   "source": [
    "model.save('cifar10_4x4_3bits.h5')"
   ]
  },
  {
   "cell_type": "code",
   "execution_count": 38,
   "id": "1ad12fc9",
   "metadata": {},
   "outputs": [],
   "source": [
    "# Load the trained model\n",
    "model = load_model('cifar10_4x4_3bits.h5')"
   ]
  },
  {
   "cell_type": "code",
   "execution_count": 39,
   "id": "e8223dfd",
   "metadata": {},
   "outputs": [
    {
     "name": "stdout",
     "output_type": "stream",
     "text": [
      "1/1 [==============================] - 0s 59ms/step\n"
     ]
    },
    {
     "data": {
      "image/png": "[encoded data removed]",
      "text/plain": [
       "<Figure size 640x480 with 1 Axes>"
      ]
     },
     "metadata": {},
     "output_type": "display_data"
    }
   ],
   "source": [
    "import matplotlib.pyplot as plt\n",
    "\n",
    "# Select a random image from the test dataset\n",
    "img_index = 10050\n",
    "img = x_test[img_index]\n",
    "true_label = y_test[img_index]\n",
    "\n",
    "# Reshape the image to add a channel dimension\n",
    "img = img.reshape((1,) + img.shape)\n",
    "\n",
    "# Use the trained model to predict the label of the image\n",
    "pred = model.predict(img)\n",
    "pred_label = np.argmax(pred)\n",
    "\n",
    "# Display the image and the predicted label\n",
    "plt.imshow(x_test[img_index])\n",
    "plt.title(f'True label: {np.argmax(true_label)}, Predicted label: {pred_label}')\n",
    "plt.show()"
   ]
  },
  {
   "cell_type": "code",
   "execution_count": null,
   "id": "0e4fb6f2",
   "metadata": {},
   "outputs": [],
   "source": []
  }
 ],
 "metadata": {
  "kernelspec": {
   "display_name": "Python 3 (ipykernel)",
   "language": "python",
   "name": "python3"
  },
  "language_info": {
   "codemirror_mode": {
    "name": "ipython",
    "version": 3
   },
   "file_extension": ".py",
   "mimetype": "text/x-python",
   "name": "python",
   "nbconvert_exporter": "python",
   "pygments_lexer": "ipython3",
   "version": "3.10.9"
  }
 },
 "nbformat": 4,
 "nbformat_minor": 5
}
